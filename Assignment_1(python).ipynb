{
  "nbformat": 4,
  "nbformat_minor": 0,
  "metadata": {
    "colab": {
      "name": "Assignment 1(python).ipynb",
      "provenance": []
    },
    "kernelspec": {
      "name": "python3",
      "display_name": "Python 3"
    }
  },
  "cells": [
    {
      "cell_type": "code",
      "metadata": {
        "id": "JVgU_Nlt8PQi"
      },
      "source": [
        "#Question 1: Write a Python program to print all Prime ibers in an Interval.\r\n",
        "Ans-\r\n",
        "start = int(input(\"Enter start range: \"))  \r\n",
        "last = int(input(\"Enter last range: \"))  \r\n",
        "  \r\n",
        "for i in range(start,last + 1):  \r\n",
        "   if i > 1:  \r\n",
        "       for i in range(2,i):  \r\n",
        "           if (i % i) == 0:  \r\n",
        "               break  \r\n",
        "       else:  \r\n",
        "           print(i)  \r\n",
        "\t\t   \r\n",
        "\t\t   \r\n",
        "\t\t   \r\n",
        "\t"
      ],
      "execution_count": null,
      "outputs": []
    },
    {
      "cell_type": "code",
      "metadata": {
        "id": "lj9mjQAk8pTj"
      },
      "source": [
        "#Question 2: Write a Python Program for factorial of a number.\r\n",
        "\t\t   \r\n",
        "\t\t   \r\n",
        "\tnum = int(input(\"Enter a number: \"))  \r\n",
        "factorial = 1  \r\n",
        "if num < 0:  \r\n",
        "   print(\"Sorry, negative no exist\")  \r\n",
        "elif num == 0:  \r\n",
        "   print(\"The factorial of 0 is 1\")  \r\n",
        "else:  \r\n",
        "   for i in range(1,num + 1):  \r\n",
        "       factorial = factorial*i  \r\n",
        "   print(\"The factorial of\",num,\"is\",factorial) \r\n",
        "\r\n"
      ],
      "execution_count": null,
      "outputs": []
    },
    {
      "cell_type": "code",
      "metadata": {
        "id": "wVYIqdnZ8x3I"
      },
      "source": [
        "#Question 3: Find the sum of n numbers by using the while loop   \r\n",
        "   \r\n",
        "   \r\n",
        "\r\n",
        "num = int(input(\"Enter a number: \"))  \r\n",
        "  \r\n",
        "if num < 0:  \r\n",
        "   print(\"Enter a positive number\")  \r\n",
        "else:  \r\n",
        "   sum = 0  \r\n",
        "  \r\n",
        "   while(num > 0):  \r\n",
        "       sum += num  \r\n",
        "       num -= 1  \r\n",
        "   print(\"The sum is\",sum)  "
      ],
      "execution_count": null,
      "outputs": []
    }
  ]
}